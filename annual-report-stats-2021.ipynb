{
 "cells": [
  {
   "cell_type": "code",
   "execution_count": 1,
   "metadata": {},
   "outputs": [],
   "source": [
    "import json\n",
    "\n",
    "import requests\n",
    "from requests.structures import CaseInsensitiveDict\n",
    "import pandas as pd\n",
    "\n",
    "JAN_1_2020 = pd.Timestamp(year=2020, month=1, day=1)\n",
    "JAN_1_2021 = pd.Timestamp(year=2021, month=1, day=1)\n",
    "\n",
    "headers = CaseInsensitiveDict()\n",
    "headers[\"Accept\"] = \"application/json\"\n",
    "TOKEN = \"\"  # This must be filled in with a PAT for GitHub with at least repo scope\n",
    "headers[\"Authorization\"] = f\"Bearer {TOKEN}\"\n",
    "URL = \"https://api.github.com/graphql\"\n"
   ]
  },
  {
   "cell_type": "code",
   "execution_count": 13,
   "metadata": {},
   "outputs": [],
   "source": [
    "query = \"\"\"\\\n",
    "query cantera_1{{\n",
    "  repository(name: \"{repository}\", owner: \"Cantera\") {{\n",
    "    issues(orderBy: {{field: CREATED_AT, direction: DESC}}, first: 100{after}) {{\n",
    "      nodes {{\n",
    "        createdAt\n",
    "        closedAt\n",
    "        closed\n",
    "        authorAssociation\n",
    "        number\n",
    "      }}\n",
    "      pageInfo {{\n",
    "        endCursor\n",
    "        hasNextPage\n",
    "      }}\n",
    "    }}\n",
    "  }}\n",
    "}}\n",
    "\"\"\"\n"
   ]
  },
  {
   "cell_type": "code",
   "execution_count": 29,
   "metadata": {},
   "outputs": [],
   "source": [
    "r = requests.post(\n",
    "    URL, json={\"query\": query.format(repository=\"cantera\", after=\"\")}, headers=headers\n",
    ")\n",
    "r.raise_for_status()\n",
    "data = json.loads(r.text)[\"data\"][\"repository\"][\"issues\"]\n",
    "has_next_page = data[\"pageInfo\"][\"hasNextPage\"]\n",
    "nodes = data[\"nodes\"]\n",
    "\n",
    "while has_next_page:\n",
    "    end_cursor = data[\"pageInfo\"][\"endCursor\"]\n",
    "    r = requests.post(\n",
    "        URL,\n",
    "        json={\n",
    "            \"query\": query.format(repository=\"cantera\", after=f', after:\"{end_cursor}\"')\n",
    "        },\n",
    "        headers=headers,\n",
    "    )\n",
    "    r.raise_for_status()\n",
    "    data = json.loads(r.text)[\"data\"][\"repository\"][\"issues\"]\n",
    "    has_next_page = data[\"pageInfo\"][\"hasNextPage\"]\n",
    "    nodes.extend(data[\"nodes\"])\n",
    "\n",
    "cantera = pd.DataFrame(nodes)\n"
   ]
  },
  {
   "cell_type": "code",
   "execution_count": 30,
   "metadata": {},
   "outputs": [],
   "source": [
    "cantera[[\"createdAt\", \"closedAt\"]] = cantera[[\"createdAt\", \"closedAt\"]].astype(\n",
    "    \"datetime64\"\n",
    ")\n",
    "cantera[\"authorAssociation\"] = cantera[\"authorAssociation\"].astype(\"category\")\n"
   ]
  },
  {
   "cell_type": "code",
   "execution_count": 31,
   "metadata": {},
   "outputs": [
    {
     "name": "stdout",
     "output_type": "stream",
     "text": [
      "(77, 5)\n",
      "(62, 5)\n"
     ]
    }
   ],
   "source": [
    "new_issues = cantera[\"createdAt\"] > JAN_1_2021\n",
    "print(cantera.loc[new_issues].shape)\n",
    "new_closed_issues = (cantera[\"createdAt\"] > JAN_1_2021) & (\n",
    "    cantera[\"closedAt\"] > JAN_1_2021\n",
    ")\n",
    "print(cantera.loc[new_closed_issues].shape)\n"
   ]
  },
  {
   "cell_type": "code",
   "execution_count": 32,
   "metadata": {},
   "outputs": [
    {
     "name": "stdout",
     "output_type": "stream",
     "text": [
      "CONTRIBUTOR 14\n",
      "MEMBER 34\n",
      "NONE 29\n"
     ]
    }
   ],
   "source": [
    "for g, v in cantera.loc[new_issues].groupby(\"authorAssociation\"):\n",
    "    print(g, len(v))\n"
   ]
  },
  {
   "cell_type": "code",
   "execution_count": 33,
   "metadata": {},
   "outputs": [
    {
     "name": "stdout",
     "output_type": "stream",
     "text": [
      "(16, 5)\n"
     ]
    }
   ],
   "source": [
    "closed_issues_from_2020 = (\n",
    "    (cantera[\"createdAt\"] > JAN_1_2020)\n",
    "    & (cantera[\"createdAt\"] < JAN_1_2021)\n",
    "    & (cantera[\"closedAt\"] > JAN_1_2021)\n",
    ")\n",
    "print(cantera.loc[closed_issues_from_2020].shape)\n"
   ]
  },
  {
   "cell_type": "code",
   "execution_count": 34,
   "metadata": {},
   "outputs": [
    {
     "name": "stdout",
     "output_type": "stream",
     "text": [
      "(9, 5)\n"
     ]
    }
   ],
   "source": [
    "older_closed_issues = (cantera[\"createdAt\"] < JAN_1_2020) & (\n",
    "    cantera[\"closedAt\"] > JAN_1_2021\n",
    ")\n",
    "print(cantera.loc[older_closed_issues].shape)\n"
   ]
  },
  {
   "cell_type": "code",
   "execution_count": 36,
   "metadata": {},
   "outputs": [],
   "source": [
    "r = requests.post(\n",
    "    URL,\n",
    "    json={\"query\": query.format(repository=\"enhancements\", after=\"\")},\n",
    "    headers=headers,\n",
    ")\n",
    "r.raise_for_status()\n",
    "data = json.loads(r.text)[\"data\"][\"repository\"][\"issues\"]\n",
    "has_next_page = data[\"pageInfo\"][\"hasNextPage\"]\n",
    "nodes = data[\"nodes\"]\n",
    "\n",
    "while has_next_page:\n",
    "    end_cursor = data[\"pageInfo\"][\"endCursor\"]\n",
    "    r = requests.post(\n",
    "        URL,\n",
    "        json={\n",
    "            \"query\": query.format(\n",
    "                repository=\"enhancements\", after=f', after:\"{end_cursor}\"'\n",
    "            )\n",
    "        },\n",
    "        headers=headers,\n",
    "    )\n",
    "    r.raise_for_status()\n",
    "    data = json.loads(r.text)[\"data\"][\"repository\"][\"issues\"]\n",
    "    has_next_page = data[\"pageInfo\"][\"hasNextPage\"]\n",
    "    nodes.extend(data[\"nodes\"])\n",
    "\n",
    "enhancements = pd.DataFrame(nodes)\n"
   ]
  },
  {
   "cell_type": "code",
   "execution_count": 37,
   "metadata": {},
   "outputs": [],
   "source": [
    "enhancements[[\"createdAt\", \"closedAt\"]] = enhancements[\n",
    "    [\"createdAt\", \"closedAt\"]\n",
    "].astype(\"datetime64\")\n",
    "enhancements[\"authorAssociation\"] = enhancements[\"authorAssociation\"].astype(\"category\")\n"
   ]
  },
  {
   "cell_type": "code",
   "execution_count": 39,
   "metadata": {},
   "outputs": [
    {
     "name": "stdout",
     "output_type": "stream",
     "text": [
      "(33, 5)\n",
      "(9, 5)\n"
     ]
    }
   ],
   "source": [
    "new_issues = enhancements[\"createdAt\"] > JAN_1_2021\n",
    "print(enhancements.loc[new_issues].shape)\n",
    "new_closed_issues = (enhancements[\"createdAt\"] > JAN_1_2021) & (\n",
    "    enhancements[\"closedAt\"] > JAN_1_2021\n",
    ")\n",
    "print(enhancements.loc[new_closed_issues].shape)\n"
   ]
  },
  {
   "cell_type": "code",
   "execution_count": 40,
   "metadata": {},
   "outputs": [
    {
     "name": "stdout",
     "output_type": "stream",
     "text": [
      "(11, 5)\n"
     ]
    }
   ],
   "source": [
    "closed_issues_from_2020 = (\n",
    "    (enhancements[\"createdAt\"] > JAN_1_2020)\n",
    "    & (enhancements[\"createdAt\"] < JAN_1_2021)\n",
    "    & (enhancements[\"closedAt\"] > JAN_1_2021)\n",
    ")\n",
    "print(enhancements.loc[closed_issues_from_2020].shape)\n"
   ]
  },
  {
   "cell_type": "code",
   "execution_count": 44,
   "metadata": {},
   "outputs": [
    {
     "name": "stdout",
     "output_type": "stream",
     "text": [
      "(0, 5)\n",
      "(0, 5)\n",
      "(1, 5)\n",
      "(0, 5)\n"
     ]
    }
   ],
   "source": [
    "r = requests.post(\n",
    "    URL,\n",
    "    json={\"query\": query.format(repository=\"cantera-jupyter\", after=\"\")},\n",
    "    headers=headers,\n",
    ")\n",
    "r.raise_for_status()\n",
    "data = json.loads(r.text)[\"data\"][\"repository\"][\"issues\"]\n",
    "has_next_page = data[\"pageInfo\"][\"hasNextPage\"]\n",
    "nodes = data[\"nodes\"]\n",
    "\n",
    "while has_next_page:\n",
    "    end_cursor = data[\"pageInfo\"][\"endCursor\"]\n",
    "    r = requests.post(\n",
    "        URL,\n",
    "        json={\n",
    "            \"query\": query.format(\n",
    "                repository=\"cantera-jupyter\", after=f', after:\"{end_cursor}\"'\n",
    "            )\n",
    "        },\n",
    "        headers=headers,\n",
    "    )\n",
    "    r.raise_for_status()\n",
    "    data = json.loads(r.text)[\"data\"][\"repository\"][\"issues\"]\n",
    "    has_next_page = data[\"pageInfo\"][\"hasNextPage\"]\n",
    "    nodes.extend(data[\"nodes\"])\n",
    "\n",
    "jupyter = pd.DataFrame(nodes)\n",
    "jupyter[[\"createdAt\", \"closedAt\"]] = jupyter[[\"createdAt\", \"closedAt\"]].astype(\n",
    "    \"datetime64\"\n",
    ")\n",
    "jupyter[\"authorAssociation\"] = jupyter[\"authorAssociation\"].astype(\"category\")\n",
    "new_issues = jupyter[\"createdAt\"] > JAN_1_2021\n",
    "print(jupyter.loc[new_issues].shape)\n",
    "new_closed_issues = (jupyter[\"createdAt\"] > JAN_1_2021) & (\n",
    "    jupyter[\"closedAt\"] > JAN_1_2021\n",
    ")\n",
    "print(jupyter.loc[new_closed_issues].shape)\n",
    "closed_issues_from_2020 = (\n",
    "    (jupyter[\"createdAt\"] > JAN_1_2020)\n",
    "    & (jupyter[\"createdAt\"] < JAN_1_2021)\n",
    "    & (jupyter[\"closedAt\"] > JAN_1_2021)\n",
    ")\n",
    "print(jupyter.loc[closed_issues_from_2020].shape)\n",
    "older_closed_issues = (jupyter[\"createdAt\"] < JAN_1_2020) & (\n",
    "    jupyter[\"closedAt\"] > JAN_1_2021\n",
    ")\n",
    "print(jupyter.loc[older_closed_issues].shape)\n"
   ]
  },
  {
   "cell_type": "code",
   "execution_count": 45,
   "metadata": {},
   "outputs": [
    {
     "name": "stdout",
     "output_type": "stream",
     "text": [
      "(16, 5)\n",
      "(9, 5)\n",
      "(0, 5)\n",
      "(3, 5)\n"
     ]
    }
   ],
   "source": [
    "r = requests.post(\n",
    "    URL,\n",
    "    json={\"query\": query.format(repository=\"cantera-website\", after=\"\")},\n",
    "    headers=headers,\n",
    ")\n",
    "r.raise_for_status()\n",
    "data = json.loads(r.text)[\"data\"][\"repository\"][\"issues\"]\n",
    "has_next_page = data[\"pageInfo\"][\"hasNextPage\"]\n",
    "nodes = data[\"nodes\"]\n",
    "\n",
    "while has_next_page:\n",
    "    end_cursor = data[\"pageInfo\"][\"endCursor\"]\n",
    "    r = requests.post(\n",
    "        URL,\n",
    "        json={\n",
    "            \"query\": query.format(\n",
    "                repository=\"cantera-website\", after=f', after:\"{end_cursor}\"'\n",
    "            )\n",
    "        },\n",
    "        headers=headers,\n",
    "    )\n",
    "    r.raise_for_status()\n",
    "    data = json.loads(r.text)[\"data\"][\"repository\"][\"issues\"]\n",
    "    has_next_page = data[\"pageInfo\"][\"hasNextPage\"]\n",
    "    nodes.extend(data[\"nodes\"])\n",
    "\n",
    "website = pd.DataFrame(nodes)\n",
    "website[[\"createdAt\", \"closedAt\"]] = website[[\"createdAt\", \"closedAt\"]].astype(\n",
    "    \"datetime64\"\n",
    ")\n",
    "website[\"authorAssociation\"] = website[\"authorAssociation\"].astype(\"category\")\n",
    "new_issues = website[\"createdAt\"] > JAN_1_2021\n",
    "print(website.loc[new_issues].shape)\n",
    "new_closed_issues = (website[\"createdAt\"] > JAN_1_2021) & (\n",
    "    website[\"closedAt\"] > JAN_1_2021\n",
    ")\n",
    "print(website.loc[new_closed_issues].shape)\n",
    "closed_issues_from_2020 = (\n",
    "    (website[\"createdAt\"] > JAN_1_2020)\n",
    "    & (website[\"createdAt\"] < JAN_1_2021)\n",
    "    & (website[\"closedAt\"] > JAN_1_2021)\n",
    ")\n",
    "print(website.loc[closed_issues_from_2020].shape)\n",
    "older_closed_issues = (website[\"createdAt\"] < JAN_1_2020) & (\n",
    "    website[\"closedAt\"] > JAN_1_2021\n",
    ")\n",
    "print(website.loc[older_closed_issues].shape)\n"
   ]
  },
  {
   "cell_type": "code",
   "execution_count": 46,
   "metadata": {},
   "outputs": [],
   "source": [
    "query = \"\"\"\\\n",
    "query cantera_pull_requests {{\n",
    "  repository(name: \"{repository}\", owner: \"cantera\") {{\n",
    "    pullRequests(first: 100, orderBy: {{field: CREATED_AT, direction: DESC}}{after}) {{\n",
    "      nodes {{\n",
    "        author {{\n",
    "          login\n",
    "        }}\n",
    "        authorAssociation\n",
    "        createdAt\n",
    "        number\n",
    "        merged\n",
    "        mergedAt\n",
    "        mergedBy {{\n",
    "          login\n",
    "        }}\n",
    "        closed\n",
    "        closedAt\n",
    "        state\n",
    "        title\n",
    "      }}\n",
    "      pageInfo {{\n",
    "        endCursor\n",
    "        hasNextPage\n",
    "      }}\n",
    "    }}\n",
    "  }}\n",
    "}}\n",
    "\"\"\"\n"
   ]
  },
  {
   "cell_type": "code",
   "execution_count": 56,
   "metadata": {},
   "outputs": [
    {
     "name": "stdout",
     "output_type": "stream",
     "text": [
      "(127, 11)\n",
      "(111, 11)\n",
      "(10, 11)\n",
      "(3, 11)\n",
      "CONTRIBUTOR 23\n",
      "FIRST_TIME_CONTRIBUTOR 6\n",
      "MEMBER 98\n",
      "NONE 0\n",
      "12Chao 2\n",
      "BangShiuh 1\n",
      "ChrisBNEU 1\n",
      "DavidAkinpelu 1\n",
      "anthony-walker 2\n",
      "band-a-prend 1\n",
      "bryanwweber 14\n",
      "chinahg 2\n",
      "d-e-t 1\n",
      "decaluwe 2\n",
      "dschmider-HSOG 1\n",
      "gkogekar 2\n",
      "hallaali 1\n",
      "ischoegl 37\n",
      "jongyoonbae 2\n",
      "lavdwall 3\n",
      "lavrenyukiv 1\n",
      "leesharma 1\n",
      "mazeau 1\n",
      "mefuller 6\n",
      "paulblum 2\n",
      "speth 41\n",
      "stijn76 1\n",
      "tpg2114 1\n",
      "bryanwweber 23\n",
      "decaluwe 5\n",
      "ischoegl 26\n",
      "speth 50\n"
     ]
    }
   ],
   "source": [
    "r = requests.post(\n",
    "    URL, json={\"query\": query.format(repository=\"cantera\", after=\"\")}, headers=headers\n",
    ")\n",
    "r.raise_for_status()\n",
    "data = json.loads(r.text)[\"data\"][\"repository\"][\"pullRequests\"]\n",
    "has_next_page = data[\"pageInfo\"][\"hasNextPage\"]\n",
    "nodes = data[\"nodes\"]\n",
    "\n",
    "while has_next_page:\n",
    "    end_cursor = data[\"pageInfo\"][\"endCursor\"]\n",
    "    r = requests.post(\n",
    "        URL,\n",
    "        json={\n",
    "            \"query\": query.format(repository=\"cantera\", after=f', after:\"{end_cursor}\"')\n",
    "        },\n",
    "        headers=headers,\n",
    "    )\n",
    "    r.raise_for_status()\n",
    "    data = json.loads(r.text)[\"data\"][\"repository\"][\"pullRequests\"]\n",
    "    has_next_page = data[\"pageInfo\"][\"hasNextPage\"]\n",
    "    nodes.extend(data[\"nodes\"])\n",
    "\n",
    "for n in nodes:\n",
    "    n[\"author\"] = n[\"author\"][\"login\"]\n",
    "    if n.get(\"mergedBy\", False):\n",
    "        n[\"mergedBy\"] = n[\"mergedBy\"][\"login\"]\n",
    "\n",
    "cantera_pr = pd.DataFrame(nodes)\n",
    "cantera_pr[[\"createdAt\", \"closedAt\", \"mergedAt\"]] = cantera_pr[\n",
    "    [\"createdAt\", \"closedAt\", \"mergedAt\"]\n",
    "].astype(\"datetime64\")\n",
    "cantera_pr[[\"authorAssociation\", \"state\"]] = cantera_pr[\n",
    "    [\"authorAssociation\", \"state\"]\n",
    "].astype(\"category\")\n",
    "new_prs = cantera_pr[\"createdAt\"] > JAN_1_2021\n",
    "print(cantera_pr.loc[new_prs].shape)\n",
    "new_closed_prs = (cantera_pr[\"createdAt\"] > JAN_1_2021) & (\n",
    "    cantera_pr[\"closedAt\"] > JAN_1_2021\n",
    ")\n",
    "print(cantera_pr.loc[new_closed_prs].shape)\n",
    "closed_prs_from_2020 = (\n",
    "    (cantera_pr[\"createdAt\"] > JAN_1_2020)\n",
    "    & (cantera_pr[\"createdAt\"] < JAN_1_2021)\n",
    "    & (cantera_pr[\"closedAt\"] > JAN_1_2021)\n",
    ")\n",
    "print(cantera_pr.loc[closed_prs_from_2020].shape)\n",
    "older_closed_prs = (cantera_pr[\"createdAt\"] < JAN_1_2020) & (\n",
    "    cantera_pr[\"closedAt\"] > JAN_1_2021\n",
    ")\n",
    "print(cantera_pr.loc[older_closed_prs].shape)\n",
    "for g, v in cantera_pr.loc[new_prs].groupby(\"authorAssociation\"):\n",
    "    print(g, len(v))\n",
    "for g, v in cantera_pr.loc[new_prs].groupby(\"author\"):\n",
    "    print(g, len(v))\n",
    "for g, v in cantera_pr.loc[new_prs].groupby(\"mergedBy\"):\n",
    "    print(g, len(v))\n",
    "\n"
   ]
  },
  {
   "cell_type": "code",
   "execution_count": 54,
   "metadata": {},
   "outputs": [
    {
     "name": "stdout",
     "output_type": "stream",
     "text": [
      "(3, 11)\n",
      "(1, 11)\n",
      "(1, 11)\n",
      "(0, 11)\n",
      "CONTRIBUTOR 0\n",
      "FIRST_TIME_CONTRIBUTOR 0\n",
      "MEMBER 3\n",
      "NONE 0\n",
      "bryanwweber 2\n",
      "gkogekar 1\n",
      "decaluwe 1\n"
     ]
    }
   ],
   "source": [
    "r = requests.post(\n",
    "    URL, json={\"query\": query.format(repository=\"cantera-jupyter\", after=\"\")}, headers=headers\n",
    ")\n",
    "r.raise_for_status()\n",
    "data = json.loads(r.text)[\"data\"][\"repository\"][\"pullRequests\"]\n",
    "has_next_page = data[\"pageInfo\"][\"hasNextPage\"]\n",
    "nodes = data[\"nodes\"]\n",
    "\n",
    "while has_next_page:\n",
    "    end_cursor = data[\"pageInfo\"][\"endCursor\"]\n",
    "    r = requests.post(\n",
    "        URL,\n",
    "        json={\n",
    "            \"query\": query.format(repository=\"cantera-jupyter\", after=f', after:\"{end_cursor}\"')\n",
    "        },\n",
    "        headers=headers,\n",
    "    )\n",
    "    r.raise_for_status()\n",
    "    data = json.loads(r.text)[\"data\"][\"repository\"][\"pullRequests\"]\n",
    "    has_next_page = data[\"pageInfo\"][\"hasNextPage\"]\n",
    "    nodes.extend(data[\"nodes\"])\n",
    "\n",
    "for n in nodes:\n",
    "    n[\"author\"] = n[\"author\"][\"login\"]\n",
    "    if n.get(\"mergedBy\", False):\n",
    "        n[\"mergedBy\"] = n[\"mergedBy\"][\"login\"]\n",
    "\n",
    "jupyter_pr = pd.DataFrame(nodes)\n",
    "jupyter_pr[[\"createdAt\", \"closedAt\", \"mergedAt\"]] = jupyter_pr[\n",
    "    [\"createdAt\", \"closedAt\", \"mergedAt\"]\n",
    "].astype(\"datetime64\")\n",
    "jupyter_pr[[\"authorAssociation\", \"state\"]] = jupyter_pr[\n",
    "    [\"authorAssociation\", \"state\"]\n",
    "].astype(\"category\")\n",
    "new_prs = jupyter_pr[\"createdAt\"] > JAN_1_2021\n",
    "print(jupyter_pr.loc[new_prs].shape)\n",
    "new_closed_prs = (jupyter_pr[\"createdAt\"] > JAN_1_2021) & (\n",
    "    jupyter_pr[\"closedAt\"] > JAN_1_2021\n",
    ")\n",
    "print(jupyter_pr.loc[new_closed_prs].shape)\n",
    "closed_prs_from_2020 = (\n",
    "    (jupyter_pr[\"createdAt\"] > JAN_1_2020)\n",
    "    & (jupyter_pr[\"createdAt\"] < JAN_1_2021)\n",
    "    & (jupyter_pr[\"closedAt\"] > JAN_1_2021)\n",
    ")\n",
    "print(jupyter_pr.loc[closed_prs_from_2020].shape)\n",
    "older_closed_prs = (jupyter_pr[\"createdAt\"] < JAN_1_2020) & (\n",
    "    jupyter_pr[\"closedAt\"] > JAN_1_2021\n",
    ")\n",
    "print(jupyter_pr.loc[older_closed_prs].shape)\n",
    "for g, v in jupyter_pr.loc[new_prs].groupby(\"authorAssociation\"):\n",
    "    print(g, len(v))\n",
    "for g, v in jupyter_pr.loc[new_prs].groupby(\"author\"):\n",
    "    print(g, len(v))\n",
    "for g, v in jupyter_pr.loc[new_prs].groupby(\"mergedBy\"):\n",
    "    print(g, len(v))\n"
   ]
  },
  {
   "cell_type": "code",
   "execution_count": 55,
   "metadata": {},
   "outputs": [
    {
     "name": "stdout",
     "output_type": "stream",
     "text": [
      "(23, 11)\n",
      "(20, 11)\n",
      "(4, 11)\n",
      "(1, 11)\n",
      "CONTRIBUTOR 7\n",
      "FIRST_TIME_CONTRIBUTOR 0\n",
      "MEMBER 16\n",
      "NONE 0\n",
      "12Chao 1\n",
      "band-a-prend 1\n",
      "bryanwweber 5\n",
      "chinahg 1\n",
      "ischoegl 3\n",
      "jiweiqi 2\n",
      "jsantner 1\n",
      "kyleniemeyer 1\n",
      "mefuller 2\n",
      "speth 6\n",
      "bryanwweber 12\n",
      "decaluwe 2\n",
      "speth 5\n"
     ]
    }
   ],
   "source": [
    "r = requests.post(\n",
    "    URL, json={\"query\": query.format(repository=\"cantera-website\", after=\"\")}, headers=headers\n",
    ")\n",
    "r.raise_for_status()\n",
    "data = json.loads(r.text)[\"data\"][\"repository\"][\"pullRequests\"]\n",
    "has_next_page = data[\"pageInfo\"][\"hasNextPage\"]\n",
    "nodes = data[\"nodes\"]\n",
    "\n",
    "while has_next_page:\n",
    "    end_cursor = data[\"pageInfo\"][\"endCursor\"]\n",
    "    r = requests.post(\n",
    "        URL,\n",
    "        json={\n",
    "            \"query\": query.format(repository=\"cantera-website\", after=f', after:\"{end_cursor}\"')\n",
    "        },\n",
    "        headers=headers,\n",
    "    )\n",
    "    r.raise_for_status()\n",
    "    data = json.loads(r.text)[\"data\"][\"repository\"][\"pullRequests\"]\n",
    "    has_next_page = data[\"pageInfo\"][\"hasNextPage\"]\n",
    "    nodes.extend(data[\"nodes\"])\n",
    "\n",
    "for n in nodes:\n",
    "    n[\"author\"] = n[\"author\"][\"login\"]\n",
    "    if n.get(\"mergedBy\", False):\n",
    "        n[\"mergedBy\"] = n[\"mergedBy\"][\"login\"]\n",
    "\n",
    "website_pr = pd.DataFrame(nodes)\n",
    "website_pr[[\"createdAt\", \"closedAt\", \"mergedAt\"]] = website_pr[\n",
    "    [\"createdAt\", \"closedAt\", \"mergedAt\"]\n",
    "].astype(\"datetime64\")\n",
    "website_pr[[\"authorAssociation\", \"state\"]] = website_pr[\n",
    "    [\"authorAssociation\", \"state\"]\n",
    "].astype(\"category\")\n",
    "new_prs = website_pr[\"createdAt\"] > JAN_1_2021\n",
    "print(website_pr.loc[new_prs].shape)\n",
    "new_closed_prs = (website_pr[\"createdAt\"] > JAN_1_2021) & (\n",
    "    website_pr[\"closedAt\"] > JAN_1_2021\n",
    ")\n",
    "print(website_pr.loc[new_closed_prs].shape)\n",
    "closed_prs_from_2020 = (\n",
    "    (website_pr[\"createdAt\"] > JAN_1_2020)\n",
    "    & (website_pr[\"createdAt\"] < JAN_1_2021)\n",
    "    & (website_pr[\"closedAt\"] > JAN_1_2021)\n",
    ")\n",
    "print(website_pr.loc[closed_prs_from_2020].shape)\n",
    "older_closed_prs = (website_pr[\"createdAt\"] < JAN_1_2020) & (\n",
    "    website_pr[\"closedAt\"] > JAN_1_2021\n",
    ")\n",
    "print(website_pr.loc[older_closed_prs].shape)\n",
    "for g, v in website_pr.loc[new_prs].groupby(\"authorAssociation\"):\n",
    "    print(g, len(v))\n",
    "for g, v in website_pr.loc[new_prs].groupby(\"author\"):\n",
    "    print(g, len(v))\n",
    "for g, v in website_pr.loc[new_prs].groupby(\"mergedBy\"):\n",
    "    print(g, len(v))\n"
   ]
  },
  {
   "cell_type": "code",
   "execution_count": 58,
   "metadata": {},
   "outputs": [
    {
     "name": "stdout",
     "output_type": "stream",
     "text": [
      "{'12Chao': 3, 'BangShiuh': 1, 'ChrisBNEU': 1, 'DavidAkinpelu': 1, 'anthony-walker': 2, 'band-a-prend': 2, 'bryanwweber': 21, 'chinahg': 3, 'd-e-t': 1, 'decaluwe': 2, 'dschmider-HSOG': 1, 'gkogekar': 3, 'hallaali': 1, 'ischoegl': 40, 'jiweiqi': 2, 'jongyoonbae': 2, 'jsantner': 1, 'kyleniemeyer': 1, 'lavdwall': 3, 'lavrenyukiv': 1, 'leesharma': 1, 'mazeau': 1, 'mefuller': 8, 'paulblum': 2, 'speth': 47, 'stijn76': 1, 'tpg2114': 1}\n",
      "27\n"
     ]
    }
   ],
   "source": [
    "all_prs = pd.concat([cantera_pr, jupyter_pr, website_pr], ignore_index=True)\n",
    "all_authors = {g: len(v) for g, v in all_prs.loc[all_prs[\"createdAt\"] > JAN_1_2021].groupby(\"author\")}\n",
    "print(all_authors)\n",
    "print(len(all_authors))"
   ]
  },
  {
   "cell_type": "code",
   "execution_count": null,
   "metadata": {},
   "outputs": [],
   "source": []
  }
 ],
 "metadata": {
  "interpreter": {
   "hash": "e146f30a339117de89a957a8ba07c19f11a5f86e6894e2b1eb2aa390f4fa5b68"
  },
  "kernelspec": {
   "display_name": "Python 3.10.0 64-bit ('ct-gh-stats': pyenv)",
   "language": "python",
   "name": "python3"
  },
  "language_info": {
   "codemirror_mode": {
    "name": "ipython",
    "version": 3
   },
   "file_extension": ".py",
   "mimetype": "text/x-python",
   "name": "python",
   "nbconvert_exporter": "python",
   "pygments_lexer": "ipython3",
   "version": "3.10.0"
  },
  "orig_nbformat": 4
 },
 "nbformat": 4,
 "nbformat_minor": 2
}
